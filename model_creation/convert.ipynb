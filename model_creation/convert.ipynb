{
 "cells": [
  {
   "cell_type": "code",
   "execution_count": 50,
   "metadata": {},
   "outputs": [],
   "source": [
    "import tensorflow as tf\n",
    "import numpy as np\n",
    "import pandas as pd\n",
    "import os\n",
    "from pathlib import Path\n",
    "import re"
   ]
  },
  {
   "cell_type": "code",
   "execution_count": 55,
   "metadata": {},
   "outputs": [
    {
     "name": "stdout",
     "output_type": "stream",
     "text": [
      "(1600, 128, 3, 1)\n"
     ]
    },
    {
     "name": "stderr",
     "output_type": "stream",
     "text": [
      "2022-06-08 15:45:43.306082: W tensorflow/compiler/mlir/lite/python/tf_tfl_flatbuffer_helpers.cc:362] Ignored output_format.\n",
      "2022-06-08 15:45:43.306110: W tensorflow/compiler/mlir/lite/python/tf_tfl_flatbuffer_helpers.cc:365] Ignored drop_control_dependency.\n",
      "2022-06-08 15:45:43.306234: I tensorflow/cc/saved_model/reader.cc:43] Reading SavedModel from: models/ver0\n",
      "2022-06-08 15:45:43.307596: I tensorflow/cc/saved_model/reader.cc:81] Reading meta graph with tags { serve }\n",
      "2022-06-08 15:45:43.307610: I tensorflow/cc/saved_model/reader.cc:122] Reading SavedModel debug info (if present) from: models/ver0\n",
      "2022-06-08 15:45:43.312707: I tensorflow/cc/saved_model/loader.cc:228] Restoring SavedModel bundle.\n",
      "2022-06-08 15:45:43.365185: I tensorflow/cc/saved_model/loader.cc:212] Running initialization op on SavedModel bundle at path: models/ver0\n",
      "2022-06-08 15:45:43.382529: I tensorflow/cc/saved_model/loader.cc:301] SavedModel load for tags { serve }; Status: success: OK. Took 76295 microseconds.\n",
      "fully_quantize: 0, inference_type: 6, input_inference_type: 0, output_inference_type: 0\n"
     ]
    }
   ],
   "source": [
    "REP_DATA_PATH = Path(\"data/train_x.csv\")\n",
    "rep_data = pd.read_csv(REP_DATA_PATH, header=None).to_numpy()\n",
    "rep_data = rep_data.reshape(1600, 128, 3)\n",
    "rep_data = np.expand_dims(rep_data, axis=3)\n",
    "print(rep_data.shape)\n",
    "\n",
    "def representative_dataset():\n",
    "    for value in range(100):\n",
    "        _ = tf.expand_dims(rep_data[value], axis=0)\n",
    "        _ = _.numpy()\n",
    "        yield [_.astype(np.float32)]\n",
    "\n",
    "MODEL_SOURCE = Path(\"models/ver0\")\n",
    "converter = tf.lite.TFLiteConverter.from_saved_model(str(MODEL_SOURCE))\n",
    "#converter.optimizations = [tf.lite.Optimize.OPTIMIZE_FOR_SIZE]\n",
    "converter.optimizations = [tf.lite.Optimize.DEFAULT]\n",
    "converter.representative_dataset = representative_dataset\n",
    "# converter.target_spec.supported_ops = [tf.lite.OpsSet.TFLITE_BUILTINS_INT8]\n",
    "# converter.inference_input_type = tf.int8  # or tf.uint8 TFLITE_BUILTINS_INT8\n",
    "# converter.inference_output_type = tf.int8  # or tf.uint8\n",
    "tflite_model = converter.convert()\n",
    "\n",
    "tf_lite_path = Path(\"models\") / (MODEL_SOURCE.name + \".tflite\")\n",
    "with open(tf_lite_path, \"wb\") as f:\n",
    "    f.write(tflite_model)"
   ]
  },
  {
   "cell_type": "code",
   "execution_count": 56,
   "metadata": {},
   "outputs": [
    {
     "data": {
      "text/plain": [
       "0"
      ]
     },
     "execution_count": 56,
     "metadata": {},
     "output_type": "execute_result"
    }
   ],
   "source": [
    "# convert from tflite to C array\n",
    "os.system(f\"xxd -i {tf_lite_path} > models/micro_model.cpp\")"
   ]
  },
  {
   "cell_type": "code",
   "execution_count": 57,
   "metadata": {},
   "outputs": [],
   "source": [
    "# copy raw C array to embedded environment and add header\n",
    "\n",
    "SRC_MODEL_PATH = Path(\"models/micro_model.cpp\")\n",
    "DEST_MODEL_PATH = Path(\"../main/src/micro_model.cpp\")\n",
    "\n",
    "def read_len() -> int:\n",
    "    \"\"\"read C-array length from file\"\"\"\n",
    "    with open(SRC_MODEL_PATH) as f:\n",
    "        for line in f:\n",
    "            if line.startswith(\"unsigned int\"):\n",
    "                length = re.search(\"([0-9])+;\", line)\n",
    "                # take first match, remove semicolon, coerce\n",
    "                length = int(length[0][:-1])\n",
    "                return int(length)\n",
    "\n",
    "\n",
    "def read_array() -> str:\n",
    "    \"\"\"read C-array from file\"\"\"\n",
    "    array = \"\"\n",
    "    with open(SRC_MODEL_PATH) as f:\n",
    "        for i, line in enumerate(f, 1):\n",
    "            if i == 1: continue # start\n",
    "            if line.startswith(\"};\"): break # end\n",
    "            array += line\n",
    "    return array\n",
    "\n",
    "\n",
    "def get_cfile_header(array_length) -> str:\n",
    "    return (f\"\"\"\n",
    "// We need to keep the data array aligned on some architectures.\n",
    "#include \"micro_model.h\"\n",
    "\n",
    "// memory management\n",
    "#ifdef __has_attribute\n",
    "#define HAVE_ATTRIBUTE(x) __has_attribute(x)\n",
    "#else\n",
    "#define HAVE_ATTRIBUTE(x) 0\n",
    "#endif\n",
    "#if HAVE_ATTRIBUTE(aligned) || (defined(__GNUC__) && !defined(__clang__))\n",
    "#define DATA_ALIGN_ATTRIBUTE __attribute__((aligned(4)))\n",
    "#else\n",
    "#define DATA_ALIGN_ATTRIBUTE\n",
    "#endif\n",
    "\n",
    "const unsigned int micro_model_len = {array_length};\n",
    "const unsigned char micro_model[] DATA_ALIGN_ATTRIBUTE = \"\"\" + \"{\\n\"\n",
    ")\n",
    "\n",
    "def get_cfile_footer() -> str:\n",
    "    return \"};\"\n",
    "\n",
    "def compose_c_file() -> str:\n",
    "    array_length = read_len()\n",
    "    array = read_array()\n",
    "    header = get_cfile_header(array_length)\n",
    "    footer = get_cfile_footer()\n",
    "    doc = header + array + footer\n",
    "    return doc\n",
    "\n",
    "def copy_to_mcu() -> None:\n",
    "    doc = compose_c_file()\n",
    "    with open(DEST_MODEL_PATH, \"w\") as f:\n",
    "        f.write(doc)\n",
    "\n",
    "copy_to_mcu()"
   ]
  }
 ],
 "metadata": {
  "interpreter": {
   "hash": "e7370f93d1d0cde622a1f8e1c04877d8463912d04d973331ad4851f04de6915a"
  },
  "kernelspec": {
   "display_name": "Python 3.10.4 64-bit",
   "language": "python",
   "name": "python3"
  },
  "language_info": {
   "codemirror_mode": {
    "name": "ipython",
    "version": 3
   },
   "file_extension": ".py",
   "mimetype": "text/x-python",
   "name": "python",
   "nbconvert_exporter": "python",
   "pygments_lexer": "ipython3",
   "version": "3.10.4"
  },
  "orig_nbformat": 4
 },
 "nbformat": 4,
 "nbformat_minor": 2
}
